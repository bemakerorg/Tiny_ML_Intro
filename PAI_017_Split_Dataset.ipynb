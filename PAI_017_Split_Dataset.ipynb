{
  "nbformat": 4,
  "nbformat_minor": 0,
  "metadata": {
    "colab": {
      "provenance": [],
      "include_colab_link": true
    },
    "kernelspec": {
      "name": "python3",
      "display_name": "Python 3"
    },
    "language_info": {
      "name": "python"
    }
  },
  "cells": [
    {
      "cell_type": "markdown",
      "metadata": {
        "id": "view-in-github",
        "colab_type": "text"
      },
      "source": [
        "<a href=\"https://colab.research.google.com/github/bemakerorg/Tiny_ML_Intro/blob/main/PAI_017_Split_Dataset.ipynb\" target=\"_parent\"><img src=\"https://colab.research.google.com/assets/colab-badge.svg\" alt=\"Open In Colab\"/></a>"
      ]
    },
    {
      "cell_type": "code",
      "source": [
        "import numpy as np\n",
        "Campioni = 20\n",
        "\n",
        "Seme = 1337\n",
        "np.random.seed(Seme)\n",
        "x_values = np.random.uniform(low=0, high=6.28, size=Campioni)\n",
        "print(\"Array X=\", x_values)\n",
        "y_values = np.sin(x_values)\n",
        "print(\"Array Y=\", y_values)"
      ],
      "metadata": {
        "id": "9VyovfEJte8X",
        "colab": {
          "base_uri": "https://localhost:8080/"
        },
        "outputId": "d55cede4-50a0-4ef3-d303-3b6bf7e7d90d"
      },
      "execution_count": 1,
      "outputs": [
        {
          "output_type": "stream",
          "name": "stdout",
          "text": [
            "Array X= [1.64551496 0.99653535 1.74663454 2.88451005 2.01588339 3.25550691\n",
            " 1.64500157 6.12981559 4.60207539 0.72392214 2.42580743 3.94698741\n",
            " 0.78536378 6.17668524 2.78345218 4.95842639 4.98706466 2.26872267\n",
            " 2.61313274 3.66914104]\n",
            "Array Y= [ 0.99720986  0.83959398  0.98458025  0.25426012  0.90257318 -0.11366805\n",
            "  0.99724805 -0.15276916 -0.99392162  0.66232828  0.65621013 -0.7211042\n",
            "  0.70708247 -0.10629886  0.3505333  -0.96988517 -0.96251322  0.76617643\n",
            "  0.50420394 -0.50341656]\n"
          ]
        }
      ]
    },
    {
      "cell_type": "code",
      "source": [
        "Dati_Addestramento =  int(0.6 * Campioni)\n",
        "Dati_Test = int(0.2 * Campioni + Dati_Addestramento)\n",
        "\n",
        "x_train, x_test, x_val = np.split(x_values, [Dati_Addestramento, Dati_Test])\n",
        "y_train, y_test, y_val = np.split(y_values, [Dati_Addestramento, Dati_Test])\n",
        "\n",
        "assert (x_train.size + x_val.size + x_test.size) ==  Campioni\n",
        "\n",
        "print(\"Array X_T=\", x_train)\n",
        "print(\"Array Y_T=\", y_train)\n",
        "print(\"Array X_TS=\", x_test)\n",
        "print(\"Array Y_TS=\", y_test)\n",
        "print(\"Array X_V=\", x_val)\n",
        "print(\"Array Y_V=\", y_val)"
      ],
      "metadata": {
        "colab": {
          "base_uri": "https://localhost:8080/"
        },
        "id": "PFFUqFrcb_AJ",
        "outputId": "93e73595-4213-46c9-d378-e32f9075a301"
      },
      "execution_count": 2,
      "outputs": [
        {
          "output_type": "stream",
          "name": "stdout",
          "text": [
            "Array X_T= [1.64551496 0.99653535 1.74663454 2.88451005 2.01588339 3.25550691\n",
            " 1.64500157 6.12981559 4.60207539 0.72392214 2.42580743 3.94698741]\n",
            "Array Y_T= [ 0.99720986  0.83959398  0.98458025  0.25426012  0.90257318 -0.11366805\n",
            "  0.99724805 -0.15276916 -0.99392162  0.66232828  0.65621013 -0.7211042 ]\n",
            "Array X_TS= [0.78536378 6.17668524 2.78345218 4.95842639]\n",
            "Array Y_TS= [ 0.70708247 -0.10629886  0.3505333  -0.96988517]\n",
            "Array X_V= [4.98706466 2.26872267 2.61313274 3.66914104]\n",
            "Array Y_V= [-0.96251322  0.76617643  0.50420394 -0.50341656]\n"
          ]
        }
      ]
    }
  ]
}